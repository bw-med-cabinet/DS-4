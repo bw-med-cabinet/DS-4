{
 "cells": [
  {
   "cell_type": "markdown",
   "metadata": {
    "colab_type": "text",
    "id": "m7m58k8r9lwt"
   },
   "source": [
    "### Laymen Nearest Neighbors model (knn01_model)\n",
    "\n",
    "Simple model used to learn interaction between different student tracks. "
   ]
  },
  {
   "cell_type": "code",
   "execution_count": 2,
   "metadata": {
    "colab": {},
    "colab_type": "code",
    "id": "XJtzUkvWCNvl"
   },
   "outputs": [],
   "source": [
    "#> Import statements\n",
    "import pandas as pd\n",
    "import numpy as np\n",
    "\n",
    "import spacy\n",
    "from spacy.tokenizer import Tokenizer\n",
    "from spacy.lang.en import English\n",
    "\n",
    "from sklearn.feature_extraction.text import TfidfVectorizer\n",
    "from sklearn.neighbors import NearestNeighbors\n",
    "\n",
    "import pickle"
   ]
  },
  {
   "cell_type": "code",
   "execution_count": 3,
   "metadata": {
    "colab": {
     "base_uri": "https://localhost:8080/",
     "height": 225
    },
    "colab_type": "code",
    "id": "5Fl_rrbzNo1V",
    "outputId": "cec62653-3da3-4fdf-a68d-93158d54b11b"
   },
   "outputs": [
    {
     "name": "stdout",
     "output_type": "stream",
     "text": [
      "(2351, 6)\n"
     ]
    },
    {
     "data": {
      "text/html": [
       "<div>\n",
       "<style scoped>\n",
       "    .dataframe tbody tr th:only-of-type {\n",
       "        vertical-align: middle;\n",
       "    }\n",
       "\n",
       "    .dataframe tbody tr th {\n",
       "        vertical-align: top;\n",
       "    }\n",
       "\n",
       "    .dataframe thead th {\n",
       "        text-align: right;\n",
       "    }\n",
       "</style>\n",
       "<table border=\"1\" class=\"dataframe\">\n",
       "  <thead>\n",
       "    <tr style=\"text-align: right;\">\n",
       "      <th></th>\n",
       "      <th>Strain</th>\n",
       "      <th>Type</th>\n",
       "      <th>Rating</th>\n",
       "      <th>Effects</th>\n",
       "      <th>Flavor</th>\n",
       "      <th>Description</th>\n",
       "    </tr>\n",
       "  </thead>\n",
       "  <tbody>\n",
       "    <tr>\n",
       "      <th>0</th>\n",
       "      <td>100-Og</td>\n",
       "      <td>hybrid</td>\n",
       "      <td>4.0</td>\n",
       "      <td>Creative,Energetic,Tingly,Euphoric,Relaxed</td>\n",
       "      <td>Earthy,Sweet,Citrus</td>\n",
       "      <td>$100 OG is a 50/50 hybrid strain that packs a ...</td>\n",
       "    </tr>\n",
       "    <tr>\n",
       "      <th>1</th>\n",
       "      <td>98-White-Widow</td>\n",
       "      <td>hybrid</td>\n",
       "      <td>4.7</td>\n",
       "      <td>Relaxed,Aroused,Creative,Happy,Energetic</td>\n",
       "      <td>Flowery,Violet,Diesel</td>\n",
       "      <td>The ‘98 Aloha White Widow is an especially pot...</td>\n",
       "    </tr>\n",
       "    <tr>\n",
       "      <th>2</th>\n",
       "      <td>1024</td>\n",
       "      <td>sativa</td>\n",
       "      <td>4.4</td>\n",
       "      <td>Uplifted,Happy,Relaxed,Energetic,Creative</td>\n",
       "      <td>Spicy/Herbal,Sage,Woody</td>\n",
       "      <td>1024 is a sativa-dominant hybrid bred in Spain...</td>\n",
       "    </tr>\n",
       "    <tr>\n",
       "      <th>3</th>\n",
       "      <td>13-Dawgs</td>\n",
       "      <td>hybrid</td>\n",
       "      <td>4.2</td>\n",
       "      <td>Tingly,Creative,Hungry,Relaxed,Uplifted</td>\n",
       "      <td>Apricot,Citrus,Grapefruit</td>\n",
       "      <td>13 Dawgs is a hybrid of G13 and Chemdawg genet...</td>\n",
       "    </tr>\n",
       "    <tr>\n",
       "      <th>4</th>\n",
       "      <td>24K-Gold</td>\n",
       "      <td>hybrid</td>\n",
       "      <td>4.6</td>\n",
       "      <td>Happy,Relaxed,Euphoric,Uplifted,Talkative</td>\n",
       "      <td>Citrus,Earthy,Orange</td>\n",
       "      <td>Also known as Kosher Tangie, 24k Gold is a 60%...</td>\n",
       "    </tr>\n",
       "  </tbody>\n",
       "</table>\n",
       "</div>"
      ],
      "text/plain": [
       "           Strain    Type  Rating                                     Effects  \\\n",
       "0          100-Og  hybrid     4.0  Creative,Energetic,Tingly,Euphoric,Relaxed   \n",
       "1  98-White-Widow  hybrid     4.7    Relaxed,Aroused,Creative,Happy,Energetic   \n",
       "2            1024  sativa     4.4   Uplifted,Happy,Relaxed,Energetic,Creative   \n",
       "3        13-Dawgs  hybrid     4.2     Tingly,Creative,Hungry,Relaxed,Uplifted   \n",
       "4        24K-Gold  hybrid     4.6   Happy,Relaxed,Euphoric,Uplifted,Talkative   \n",
       "\n",
       "                      Flavor  \\\n",
       "0        Earthy,Sweet,Citrus   \n",
       "1      Flowery,Violet,Diesel   \n",
       "2    Spicy/Herbal,Sage,Woody   \n",
       "3  Apricot,Citrus,Grapefruit   \n",
       "4       Citrus,Earthy,Orange   \n",
       "\n",
       "                                         Description  \n",
       "0  $100 OG is a 50/50 hybrid strain that packs a ...  \n",
       "1  The ‘98 Aloha White Widow is an especially pot...  \n",
       "2  1024 is a sativa-dominant hybrid bred in Spain...  \n",
       "3  13 Dawgs is a hybrid of G13 and Chemdawg genet...  \n",
       "4  Also known as Kosher Tangie, 24k Gold is a 60%...  "
      ]
     },
     "execution_count": 3,
     "metadata": {},
     "output_type": "execute_result"
    }
   ],
   "source": [
    "data = pd.read_csv(\"cannabis_raw.csv\")\n",
    "\n",
    "print(data.shape)\n",
    "data.head()"
   ]
  },
  {
   "cell_type": "code",
   "execution_count": 4,
   "metadata": {},
   "outputs": [],
   "source": [
    "#> Cleaning data features and observations\n",
    "data = data.rename(columns={'Strain': 'strain_name', \n",
    "                            'Type': 'strain_type', \n",
    "                            'Rating': 'strain_rating',\n",
    "                            'Effects': 'effect_profile',\n",
    "                            'Flavor': 'flavor_profile',\n",
    "                            'Description': 'strain_description'})"
   ]
  },
  {
   "cell_type": "code",
   "execution_count": 5,
   "metadata": {
    "colab": {
     "base_uri": "https://localhost:8080/",
     "height": 35
    },
    "colab_type": "code",
    "id": "J01fAdl7f2NL",
    "outputId": "aa01dbb2-6a31-4488-a406-70af34f31469"
   },
   "outputs": [
    {
     "data": {
      "text/plain": [
       "array(['Hybrid', 'Sativa', 'Indica'], dtype=object)"
      ]
     },
     "execution_count": 5,
     "metadata": {},
     "output_type": "execute_result"
    }
   ],
   "source": [
    "data['strain_type'] = data['strain_type'].str.capitalize()\n",
    "\n",
    "data['strain_type'].unique()"
   ]
  },
  {
   "cell_type": "code",
   "execution_count": 6,
   "metadata": {
    "colab": {
     "base_uri": "https://localhost:8080/",
     "height": 53
    },
    "colab_type": "code",
    "id": "kCDY0699ebPg",
    "outputId": "728aed6a-be1f-47a1-a319-0e656af51080"
   },
   "outputs": [
    {
     "data": {
      "text/plain": [
       "array([4. , 4.7, 4.4, 4.2, 4.6, 0. , 4.5, 4.3, 5. , 3.8, 4.1, 4.8, 3.4,\n",
       "       3.7, 3.9, 3. , 4.9, 3.6, 2.8, 3.3, 3.5, 3.2, 2. , 1. , 3.1, 2.5])"
      ]
     },
     "execution_count": 6,
     "metadata": {},
     "output_type": "execute_result"
    }
   ],
   "source": [
    "data['strain_rating'].unique()"
   ]
  },
  {
   "cell_type": "code",
   "execution_count": 7,
   "metadata": {},
   "outputs": [],
   "source": [
    "data = data.copy()\n",
    "\n",
    "data = data.dropna()\n",
    "data = data.reset_index(drop=True)\n",
    "\n",
    "data.to_csv('cannabis_dropna')"
   ]
  },
  {
   "cell_type": "code",
   "execution_count": 8,
   "metadata": {},
   "outputs": [
    {
     "data": {
      "text/plain": [
       "(2277, 6)"
      ]
     },
     "execution_count": 8,
     "metadata": {},
     "output_type": "execute_result"
    }
   ],
   "source": [
    "data.shape"
   ]
  },
  {
   "cell_type": "code",
   "execution_count": 9,
   "metadata": {},
   "outputs": [],
   "source": [
    "# Create a master profile feature\n",
    "data['strain_profile'] = data['strain_type'] + ',' + data['effect_profile'] + ',' + data['flavor_profile']"
   ]
  },
  {
   "cell_type": "code",
   "execution_count": 10,
   "metadata": {},
   "outputs": [],
   "source": [
    "# Vectorizer object\n",
    "nlp=English()\n",
    "tokenizer = Tokenizer(nlp.vocab)\n",
    "\n",
    "tf = TfidfVectorizer(stop_words='english')"
   ]
  },
  {
   "cell_type": "code",
   "execution_count": 11,
   "metadata": {},
   "outputs": [
    {
     "data": {
      "text/html": [
       "<div>\n",
       "<style scoped>\n",
       "    .dataframe tbody tr th:only-of-type {\n",
       "        vertical-align: middle;\n",
       "    }\n",
       "\n",
       "    .dataframe tbody tr th {\n",
       "        vertical-align: top;\n",
       "    }\n",
       "\n",
       "    .dataframe thead th {\n",
       "        text-align: right;\n",
       "    }\n",
       "</style>\n",
       "<table border=\"1\" class=\"dataframe\">\n",
       "  <thead>\n",
       "    <tr style=\"text-align: right;\">\n",
       "      <th></th>\n",
       "      <th>ammonia</th>\n",
       "      <th>apple</th>\n",
       "      <th>apricot</th>\n",
       "      <th>aroused</th>\n",
       "      <th>berry</th>\n",
       "      <th>blue</th>\n",
       "      <th>blueberry</th>\n",
       "      <th>butter</th>\n",
       "      <th>cheese</th>\n",
       "      <th>chemical</th>\n",
       "      <th>...</th>\n",
       "      <th>tar</th>\n",
       "      <th>tea</th>\n",
       "      <th>tingly</th>\n",
       "      <th>tobacco</th>\n",
       "      <th>tree</th>\n",
       "      <th>tropical</th>\n",
       "      <th>uplifted</th>\n",
       "      <th>vanilla</th>\n",
       "      <th>violet</th>\n",
       "      <th>woody</th>\n",
       "    </tr>\n",
       "  </thead>\n",
       "  <tbody>\n",
       "    <tr>\n",
       "      <th>0</th>\n",
       "      <td>0.0</td>\n",
       "      <td>0.0</td>\n",
       "      <td>0.000000</td>\n",
       "      <td>0.000000</td>\n",
       "      <td>0.0</td>\n",
       "      <td>0.0</td>\n",
       "      <td>0.0</td>\n",
       "      <td>0.0</td>\n",
       "      <td>0.0</td>\n",
       "      <td>0.0</td>\n",
       "      <td>...</td>\n",
       "      <td>0.0</td>\n",
       "      <td>0.0</td>\n",
       "      <td>0.479090</td>\n",
       "      <td>0.0</td>\n",
       "      <td>0.0</td>\n",
       "      <td>0.0</td>\n",
       "      <td>0.000000</td>\n",
       "      <td>0.0</td>\n",
       "      <td>0.000000</td>\n",
       "      <td>0.000000</td>\n",
       "    </tr>\n",
       "    <tr>\n",
       "      <th>1</th>\n",
       "      <td>0.0</td>\n",
       "      <td>0.0</td>\n",
       "      <td>0.000000</td>\n",
       "      <td>0.358413</td>\n",
       "      <td>0.0</td>\n",
       "      <td>0.0</td>\n",
       "      <td>0.0</td>\n",
       "      <td>0.0</td>\n",
       "      <td>0.0</td>\n",
       "      <td>0.0</td>\n",
       "      <td>...</td>\n",
       "      <td>0.0</td>\n",
       "      <td>0.0</td>\n",
       "      <td>0.000000</td>\n",
       "      <td>0.0</td>\n",
       "      <td>0.0</td>\n",
       "      <td>0.0</td>\n",
       "      <td>0.000000</td>\n",
       "      <td>0.0</td>\n",
       "      <td>0.691452</td>\n",
       "      <td>0.000000</td>\n",
       "    </tr>\n",
       "    <tr>\n",
       "      <th>2</th>\n",
       "      <td>0.0</td>\n",
       "      <td>0.0</td>\n",
       "      <td>0.000000</td>\n",
       "      <td>0.000000</td>\n",
       "      <td>0.0</td>\n",
       "      <td>0.0</td>\n",
       "      <td>0.0</td>\n",
       "      <td>0.0</td>\n",
       "      <td>0.0</td>\n",
       "      <td>0.0</td>\n",
       "      <td>...</td>\n",
       "      <td>0.0</td>\n",
       "      <td>0.0</td>\n",
       "      <td>0.000000</td>\n",
       "      <td>0.0</td>\n",
       "      <td>0.0</td>\n",
       "      <td>0.0</td>\n",
       "      <td>0.161282</td>\n",
       "      <td>0.0</td>\n",
       "      <td>0.000000</td>\n",
       "      <td>0.357784</td>\n",
       "    </tr>\n",
       "    <tr>\n",
       "      <th>3</th>\n",
       "      <td>0.0</td>\n",
       "      <td>0.0</td>\n",
       "      <td>0.650341</td>\n",
       "      <td>0.000000</td>\n",
       "      <td>0.0</td>\n",
       "      <td>0.0</td>\n",
       "      <td>0.0</td>\n",
       "      <td>0.0</td>\n",
       "      <td>0.0</td>\n",
       "      <td>0.0</td>\n",
       "      <td>...</td>\n",
       "      <td>0.0</td>\n",
       "      <td>0.0</td>\n",
       "      <td>0.290334</td>\n",
       "      <td>0.0</td>\n",
       "      <td>0.0</td>\n",
       "      <td>0.0</td>\n",
       "      <td>0.143473</td>\n",
       "      <td>0.0</td>\n",
       "      <td>0.000000</td>\n",
       "      <td>0.000000</td>\n",
       "    </tr>\n",
       "    <tr>\n",
       "      <th>4</th>\n",
       "      <td>0.0</td>\n",
       "      <td>0.0</td>\n",
       "      <td>0.000000</td>\n",
       "      <td>0.000000</td>\n",
       "      <td>0.0</td>\n",
       "      <td>0.0</td>\n",
       "      <td>0.0</td>\n",
       "      <td>0.0</td>\n",
       "      <td>0.0</td>\n",
       "      <td>0.0</td>\n",
       "      <td>...</td>\n",
       "      <td>0.0</td>\n",
       "      <td>0.0</td>\n",
       "      <td>0.000000</td>\n",
       "      <td>0.0</td>\n",
       "      <td>0.0</td>\n",
       "      <td>0.0</td>\n",
       "      <td>0.211369</td>\n",
       "      <td>0.0</td>\n",
       "      <td>0.000000</td>\n",
       "      <td>0.000000</td>\n",
       "    </tr>\n",
       "  </tbody>\n",
       "</table>\n",
       "<p>5 rows × 68 columns</p>\n",
       "</div>"
      ],
      "text/plain": [
       "   ammonia  apple   apricot   aroused  berry  blue  blueberry  butter  cheese  \\\n",
       "0      0.0    0.0  0.000000  0.000000    0.0   0.0        0.0     0.0     0.0   \n",
       "1      0.0    0.0  0.000000  0.358413    0.0   0.0        0.0     0.0     0.0   \n",
       "2      0.0    0.0  0.000000  0.000000    0.0   0.0        0.0     0.0     0.0   \n",
       "3      0.0    0.0  0.650341  0.000000    0.0   0.0        0.0     0.0     0.0   \n",
       "4      0.0    0.0  0.000000  0.000000    0.0   0.0        0.0     0.0     0.0   \n",
       "\n",
       "   chemical  ...  tar  tea    tingly  tobacco  tree  tropical  uplifted  \\\n",
       "0       0.0  ...  0.0  0.0  0.479090      0.0   0.0       0.0  0.000000   \n",
       "1       0.0  ...  0.0  0.0  0.000000      0.0   0.0       0.0  0.000000   \n",
       "2       0.0  ...  0.0  0.0  0.000000      0.0   0.0       0.0  0.161282   \n",
       "3       0.0  ...  0.0  0.0  0.290334      0.0   0.0       0.0  0.143473   \n",
       "4       0.0  ...  0.0  0.0  0.000000      0.0   0.0       0.0  0.211369   \n",
       "\n",
       "   vanilla    violet     woody  \n",
       "0      0.0  0.000000  0.000000  \n",
       "1      0.0  0.691452  0.000000  \n",
       "2      0.0  0.000000  0.357784  \n",
       "3      0.0  0.000000  0.000000  \n",
       "4      0.0  0.000000  0.000000  \n",
       "\n",
       "[5 rows x 68 columns]"
      ]
     },
     "execution_count": 11,
     "metadata": {},
     "output_type": "execute_result"
    }
   ],
   "source": [
    "# Create a data-term matrix\n",
    "dtm = tf.fit_transform(data['strain_profile'].values.astype('U'))\n",
    "dtm = pd.DataFrame(dtm.todense(), columns=tf.get_feature_names())\n",
    "dtm.head()"
   ]
  },
  {
   "cell_type": "code",
   "execution_count": 12,
   "metadata": {},
   "outputs": [
    {
     "data": {
      "text/plain": [
       "NearestNeighbors(algorithm='ball_tree', leaf_size=30, metric='minkowski',\n",
       "                 metric_params=None, n_jobs=None, n_neighbors=5, p=2,\n",
       "                 radius=1.0)"
      ]
     },
     "execution_count": 12,
     "metadata": {},
     "output_type": "execute_result"
    }
   ],
   "source": [
    "nn = NearestNeighbors(n_neighbors=5, algorithm='ball_tree')\n",
    "nn.fit(dtm)"
   ]
  },
  {
   "cell_type": "code",
   "execution_count": 13,
   "metadata": {},
   "outputs": [
    {
     "data": {
      "text/plain": [
       "array(['ammonia', 'apple', 'apricot', 'aroused', 'berry', 'blue',\n",
       "       'blueberry', 'butter', 'cheese', 'chemical', 'chestnut', 'citrus',\n",
       "       'coffee', 'creative', 'diesel', 'dry', 'earthy', 'energetic',\n",
       "       'euphoric', 'flowery', 'focused', 'fruit', 'giggly', 'grape',\n",
       "       'grapefruit', 'happy', 'herbal', 'honey', 'hungry', 'hybrid',\n",
       "       'indica', 'lavender', 'lemon', 'lime', 'mango', 'menthol', 'mint',\n",
       "       'minty', 'mouth', 'nutty', 'orange', 'peach', 'pear', 'pepper',\n",
       "       'pine', 'pineapple', 'plum', 'pungent', 'relaxed', 'rose', 'sage',\n",
       "       'sativa', 'skunk', 'sleepy', 'spicy', 'strawberry', 'sweet',\n",
       "       'talkative', 'tar', 'tea', 'tingly', 'tobacco', 'tree', 'tropical',\n",
       "       'uplifted', 'vanilla', 'violet', 'woody'], dtype='<U10')"
      ]
     },
     "execution_count": 13,
     "metadata": {},
     "output_type": "execute_result"
    }
   ],
   "source": [
    "#> Testing model\n",
    "profile_list = list(dtm.columns.values)\n",
    "profile_list_array = np.array(profile_list)\n",
    "profile_list_array"
   ]
  },
  {
   "cell_type": "code",
   "execution_count": 28,
   "metadata": {},
   "outputs": [],
   "source": [
    "user01_input = ['peach, pear, aroused, sativa, indica']\n",
    "user01_dense = tf.transform(user01_input)\n",
    "_, user01_output = nn.kneighbors(user01_dense.todense())"
   ]
  },
  {
   "cell_type": "code",
   "execution_count": 33,
   "metadata": {},
   "outputs": [
    {
     "data": {
      "text/plain": [
       "array([[1693, 2017, 2189, 1362,   34]], dtype=int64)"
      ]
     },
     "execution_count": 33,
     "metadata": {},
     "output_type": "execute_result"
    }
   ],
   "source": [
    "user01_output"
   ]
  },
  {
   "cell_type": "code",
   "execution_count": 16,
   "metadata": {},
   "outputs": [
    {
     "name": "stdout",
     "output_type": "stream",
     "text": [
      "strain_name                                                      Rafael\n",
      "strain_type                                                      Sativa\n",
      "strain_rating                                                         5\n",
      "effect_profile                                                     None\n",
      "flavor_profile                                                    Peach\n",
      "strain_description    Rafael (or Raphael) is a sativa-dominant strai...\n",
      "strain_profile                                        Sativa,None,Peach\n",
      "Name: 1693, dtype: object\n",
      "\n",
      "strain_name                                              Whitaker-Blues\n",
      "strain_type                                                      Indica\n",
      "strain_rating                                                       4.2\n",
      "effect_profile                   Relaxed,Sleepy,Happy,Uplifted,Euphoric\n",
      "flavor_profile                                         Sweet,Apple,Pear\n",
      "strain_description    Whitaker Blues is a classic indica-dominant st...\n",
      "strain_profile        Indica,Relaxed,Sleepy,Happy,Uplifted,Euphoric,...\n",
      "Name: 2189, dtype: object\n",
      "\n",
      "strain_name                                           Michael-Phelps-Og\n",
      "strain_type                                                      Hybrid\n",
      "strain_rating                                                       4.4\n",
      "effect_profile                 Relaxed,Hungry,Sleepy,Creative,Talkative\n",
      "flavor_profile                                         Pine,Pear,Earthy\n",
      "strain_description    When word got out that the Olympic gold medali...\n",
      "strain_profile        Hybrid,Relaxed,Hungry,Sleepy,Creative,Talkativ...\n",
      "Name: 1362, dtype: object\n",
      "\n",
      "strain_name                                              Afghan-Big-Bud\n",
      "strain_type                                                      Indica\n",
      "strain_rating                                                         4\n",
      "effect_profile                  Euphoric,Happy,Relaxed,Sleepy,Talkative\n",
      "flavor_profile                                      Pungent,Lemon,Peach\n",
      "strain_description    Spawn from Afghani and Big Bud, Afghan Big Bud...\n",
      "strain_profile        Indica,Euphoric,Happy,Relaxed,Sleepy,Talkative...\n",
      "Name: 34, dtype: object\n",
      "\n",
      "strain_name                                         Sweet-Harlem-Diesel\n",
      "strain_type                                                      Hybrid\n",
      "strain_rating                                                       4.7\n",
      "effect_profile             Aroused,Talkative,Uplifted,Creative,Euphoric\n",
      "flavor_profile                                        Pear,Diesel,Sweet\n",
      "strain_description    Sweet Harlem Diesel by Sumo Seeds is a fascina...\n",
      "strain_profile        Hybrid,Aroused,Talkative,Uplifted,Creative,Eup...\n",
      "Name: 2017, dtype: object\n",
      "\n"
     ]
    }
   ],
   "source": [
    "list_strains = []\n",
    "for n in user01_output:\n",
    "    for index in n:\n",
    "        list_strains.append(index)\n",
    "\n",
    "for n in list_strains:\n",
    "    print(f\"{data.loc[n,:]}\\n\")"
   ]
  },
  {
   "cell_type": "code",
   "execution_count": 18,
   "metadata": {},
   "outputs": [],
   "source": [
    "# Pickle the dtm and tf for web use\n",
    "pickle.dump(dtm, open('knn01_dtm.pkl', 'wb'))\n",
    "pickle.dump(tf, open('knn01_tf.pkl', 'wb'))"
   ]
  }
 ],
 "metadata": {
  "colab": {
   "collapsed_sections": [],
   "name": "nlp_cannabis_data_wrangling_ping.ipynb",
   "provenance": []
  },
  "kernelspec": {
   "display_name": "U4S1NLP (Python3)",
   "language": "python",
   "name": "u4s1nlp"
  },
  "language_info": {
   "codemirror_mode": {
    "name": "ipython",
    "version": 3
   },
   "file_extension": ".py",
   "mimetype": "text/x-python",
   "name": "python",
   "nbconvert_exporter": "python",
   "pygments_lexer": "ipython3",
   "version": "3.7.0"
  }
 },
 "nbformat": 4,
 "nbformat_minor": 4
}
